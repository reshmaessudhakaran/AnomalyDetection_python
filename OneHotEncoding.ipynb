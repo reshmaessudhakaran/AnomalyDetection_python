{
  "nbformat": 4,
  "nbformat_minor": 0,
  "metadata": {
    "colab": {
      "provenance": [],
      "authorship_tag": "ABX9TyMjHlQKKDnj7+z81BSBLDMH",
      "include_colab_link": true
    },
    "kernelspec": {
      "name": "python3",
      "display_name": "Python 3"
    },
    "language_info": {
      "name": "python"
    }
  },
  "cells": [
    {
      "cell_type": "markdown",
      "metadata": {
        "id": "view-in-github",
        "colab_type": "text"
      },
      "source": [
        "<a href=\"https://colab.research.google.com/github/reshmaessudhakaran/AnomalyDetection_python/blob/main/OneHotEncoding.ipynb\" target=\"_parent\"><img src=\"https://colab.research.google.com/assets/colab-badge.svg\" alt=\"Open In Colab\"/></a>"
      ]
    },
    {
      "cell_type": "code",
      "execution_count": null,
      "metadata": {
        "id": "7gCbmX16LjEe"
      },
      "outputs": [],
      "source": [
        "import numpy as np\n",
        "import pandas as pd\n",
        "from sklearn.model_selection import train_test_split\n",
        "from sklearn.preprocessing import StandardScaler\n",
        "from sklearn.preprocessing import OneHotEncoder\n",
        "from keras.layers import Input, Dense\n",
        "from keras.models import Model\n",
        "import pandas as pd\n"
      ]
    },
    {
      "cell_type": "code",
      "source": [
        "from google.colab import drive\n",
        "drive.mount('/content/drive')"
      ],
      "metadata": {
        "colab": {
          "base_uri": "https://localhost:8080/"
        },
        "id": "1RoWHQDaLr0J",
        "outputId": "672639ca-d33e-4eed-eae5-da03c2577d84"
      },
      "execution_count": null,
      "outputs": [
        {
          "output_type": "stream",
          "name": "stdout",
          "text": [
            "Drive already mounted at /content/drive; to attempt to forcibly remount, call drive.mount(\"/content/drive\", force_remount=True).\n"
          ]
        }
      ]
    },
    {
      "cell_type": "code",
      "source": [
        "# Load your dataset\n",
        "# For this example, let's assume you have a dataset called 'restaurant_data.csv'\n",
        "data = pd.read_csv('/content/drive/MyDrive/DatasetXTG/order_data_1.csv')"
      ],
      "metadata": {
        "id": "7JLDKmejL5oH"
      },
      "execution_count": null,
      "outputs": []
    },
    {
      "cell_type": "code",
      "source": [
        "data.head()\n"
      ],
      "metadata": {
        "colab": {
          "base_uri": "https://localhost:8080/",
          "height": 206
        },
        "id": "AzZdHenmMADY",
        "outputId": "1190c604-939f-4f80-f810-352aff18116f"
      },
      "execution_count": null,
      "outputs": [
        {
          "output_type": "execute_result",
          "data": {
            "text/plain": [
              "  Order ID      Timestamp Menu Items Ordered  Quantity  Price  Total Amount\n",
              "0    ORD_1  3/1/2024 0:02       Chinese Food         1   1.72          5.22\n",
              "1    ORD_1  3/1/2024 0:02              Pasta         2   1.00          5.22\n",
              "2    ORD_1  3/1/2024 0:02             Muffin         1   1.50          5.22\n",
              "3    ORD_2  3/1/2024 5:30       Orange Juice         1   1.65          1.65\n",
              "4    ORD_3  3/1/2024 9:38       Orange Juice         4   3.04         12.16"
            ],
            "text/html": [
              "\n",
              "  <div id=\"df-f72abae7-5f46-402b-863f-ae4d8a3603a7\" class=\"colab-df-container\">\n",
              "    <div>\n",
              "<style scoped>\n",
              "    .dataframe tbody tr th:only-of-type {\n",
              "        vertical-align: middle;\n",
              "    }\n",
              "\n",
              "    .dataframe tbody tr th {\n",
              "        vertical-align: top;\n",
              "    }\n",
              "\n",
              "    .dataframe thead th {\n",
              "        text-align: right;\n",
              "    }\n",
              "</style>\n",
              "<table border=\"1\" class=\"dataframe\">\n",
              "  <thead>\n",
              "    <tr style=\"text-align: right;\">\n",
              "      <th></th>\n",
              "      <th>Order ID</th>\n",
              "      <th>Timestamp</th>\n",
              "      <th>Menu Items Ordered</th>\n",
              "      <th>Quantity</th>\n",
              "      <th>Price</th>\n",
              "      <th>Total Amount</th>\n",
              "    </tr>\n",
              "  </thead>\n",
              "  <tbody>\n",
              "    <tr>\n",
              "      <th>0</th>\n",
              "      <td>ORD_1</td>\n",
              "      <td>3/1/2024 0:02</td>\n",
              "      <td>Chinese Food</td>\n",
              "      <td>1</td>\n",
              "      <td>1.72</td>\n",
              "      <td>5.22</td>\n",
              "    </tr>\n",
              "    <tr>\n",
              "      <th>1</th>\n",
              "      <td>ORD_1</td>\n",
              "      <td>3/1/2024 0:02</td>\n",
              "      <td>Pasta</td>\n",
              "      <td>2</td>\n",
              "      <td>1.00</td>\n",
              "      <td>5.22</td>\n",
              "    </tr>\n",
              "    <tr>\n",
              "      <th>2</th>\n",
              "      <td>ORD_1</td>\n",
              "      <td>3/1/2024 0:02</td>\n",
              "      <td>Muffin</td>\n",
              "      <td>1</td>\n",
              "      <td>1.50</td>\n",
              "      <td>5.22</td>\n",
              "    </tr>\n",
              "    <tr>\n",
              "      <th>3</th>\n",
              "      <td>ORD_2</td>\n",
              "      <td>3/1/2024 5:30</td>\n",
              "      <td>Orange Juice</td>\n",
              "      <td>1</td>\n",
              "      <td>1.65</td>\n",
              "      <td>1.65</td>\n",
              "    </tr>\n",
              "    <tr>\n",
              "      <th>4</th>\n",
              "      <td>ORD_3</td>\n",
              "      <td>3/1/2024 9:38</td>\n",
              "      <td>Orange Juice</td>\n",
              "      <td>4</td>\n",
              "      <td>3.04</td>\n",
              "      <td>12.16</td>\n",
              "    </tr>\n",
              "  </tbody>\n",
              "</table>\n",
              "</div>\n",
              "    <div class=\"colab-df-buttons\">\n",
              "\n",
              "  <div class=\"colab-df-container\">\n",
              "    <button class=\"colab-df-convert\" onclick=\"convertToInteractive('df-f72abae7-5f46-402b-863f-ae4d8a3603a7')\"\n",
              "            title=\"Convert this dataframe to an interactive table.\"\n",
              "            style=\"display:none;\">\n",
              "\n",
              "  <svg xmlns=\"http://www.w3.org/2000/svg\" height=\"24px\" viewBox=\"0 -960 960 960\">\n",
              "    <path d=\"M120-120v-720h720v720H120Zm60-500h600v-160H180v160Zm220 220h160v-160H400v160Zm0 220h160v-160H400v160ZM180-400h160v-160H180v160Zm440 0h160v-160H620v160ZM180-180h160v-160H180v160Zm440 0h160v-160H620v160Z\"/>\n",
              "  </svg>\n",
              "    </button>\n",
              "\n",
              "  <style>\n",
              "    .colab-df-container {\n",
              "      display:flex;\n",
              "      gap: 12px;\n",
              "    }\n",
              "\n",
              "    .colab-df-convert {\n",
              "      background-color: #E8F0FE;\n",
              "      border: none;\n",
              "      border-radius: 50%;\n",
              "      cursor: pointer;\n",
              "      display: none;\n",
              "      fill: #1967D2;\n",
              "      height: 32px;\n",
              "      padding: 0 0 0 0;\n",
              "      width: 32px;\n",
              "    }\n",
              "\n",
              "    .colab-df-convert:hover {\n",
              "      background-color: #E2EBFA;\n",
              "      box-shadow: 0px 1px 2px rgba(60, 64, 67, 0.3), 0px 1px 3px 1px rgba(60, 64, 67, 0.15);\n",
              "      fill: #174EA6;\n",
              "    }\n",
              "\n",
              "    .colab-df-buttons div {\n",
              "      margin-bottom: 4px;\n",
              "    }\n",
              "\n",
              "    [theme=dark] .colab-df-convert {\n",
              "      background-color: #3B4455;\n",
              "      fill: #D2E3FC;\n",
              "    }\n",
              "\n",
              "    [theme=dark] .colab-df-convert:hover {\n",
              "      background-color: #434B5C;\n",
              "      box-shadow: 0px 1px 3px 1px rgba(0, 0, 0, 0.15);\n",
              "      filter: drop-shadow(0px 1px 2px rgba(0, 0, 0, 0.3));\n",
              "      fill: #FFFFFF;\n",
              "    }\n",
              "  </style>\n",
              "\n",
              "    <script>\n",
              "      const buttonEl =\n",
              "        document.querySelector('#df-f72abae7-5f46-402b-863f-ae4d8a3603a7 button.colab-df-convert');\n",
              "      buttonEl.style.display =\n",
              "        google.colab.kernel.accessAllowed ? 'block' : 'none';\n",
              "\n",
              "      async function convertToInteractive(key) {\n",
              "        const element = document.querySelector('#df-f72abae7-5f46-402b-863f-ae4d8a3603a7');\n",
              "        const dataTable =\n",
              "          await google.colab.kernel.invokeFunction('convertToInteractive',\n",
              "                                                    [key], {});\n",
              "        if (!dataTable) return;\n",
              "\n",
              "        const docLinkHtml = 'Like what you see? Visit the ' +\n",
              "          '<a target=\"_blank\" href=https://colab.research.google.com/notebooks/data_table.ipynb>data table notebook</a>'\n",
              "          + ' to learn more about interactive tables.';\n",
              "        element.innerHTML = '';\n",
              "        dataTable['output_type'] = 'display_data';\n",
              "        await google.colab.output.renderOutput(dataTable, element);\n",
              "        const docLink = document.createElement('div');\n",
              "        docLink.innerHTML = docLinkHtml;\n",
              "        element.appendChild(docLink);\n",
              "      }\n",
              "    </script>\n",
              "  </div>\n",
              "\n",
              "\n",
              "<div id=\"df-a1737f72-307f-4b7e-a406-efe5def8bd90\">\n",
              "  <button class=\"colab-df-quickchart\" onclick=\"quickchart('df-a1737f72-307f-4b7e-a406-efe5def8bd90')\"\n",
              "            title=\"Suggest charts\"\n",
              "            style=\"display:none;\">\n",
              "\n",
              "<svg xmlns=\"http://www.w3.org/2000/svg\" height=\"24px\"viewBox=\"0 0 24 24\"\n",
              "     width=\"24px\">\n",
              "    <g>\n",
              "        <path d=\"M19 3H5c-1.1 0-2 .9-2 2v14c0 1.1.9 2 2 2h14c1.1 0 2-.9 2-2V5c0-1.1-.9-2-2-2zM9 17H7v-7h2v7zm4 0h-2V7h2v10zm4 0h-2v-4h2v4z\"/>\n",
              "    </g>\n",
              "</svg>\n",
              "  </button>\n",
              "\n",
              "<style>\n",
              "  .colab-df-quickchart {\n",
              "      --bg-color: #E8F0FE;\n",
              "      --fill-color: #1967D2;\n",
              "      --hover-bg-color: #E2EBFA;\n",
              "      --hover-fill-color: #174EA6;\n",
              "      --disabled-fill-color: #AAA;\n",
              "      --disabled-bg-color: #DDD;\n",
              "  }\n",
              "\n",
              "  [theme=dark] .colab-df-quickchart {\n",
              "      --bg-color: #3B4455;\n",
              "      --fill-color: #D2E3FC;\n",
              "      --hover-bg-color: #434B5C;\n",
              "      --hover-fill-color: #FFFFFF;\n",
              "      --disabled-bg-color: #3B4455;\n",
              "      --disabled-fill-color: #666;\n",
              "  }\n",
              "\n",
              "  .colab-df-quickchart {\n",
              "    background-color: var(--bg-color);\n",
              "    border: none;\n",
              "    border-radius: 50%;\n",
              "    cursor: pointer;\n",
              "    display: none;\n",
              "    fill: var(--fill-color);\n",
              "    height: 32px;\n",
              "    padding: 0;\n",
              "    width: 32px;\n",
              "  }\n",
              "\n",
              "  .colab-df-quickchart:hover {\n",
              "    background-color: var(--hover-bg-color);\n",
              "    box-shadow: 0 1px 2px rgba(60, 64, 67, 0.3), 0 1px 3px 1px rgba(60, 64, 67, 0.15);\n",
              "    fill: var(--button-hover-fill-color);\n",
              "  }\n",
              "\n",
              "  .colab-df-quickchart-complete:disabled,\n",
              "  .colab-df-quickchart-complete:disabled:hover {\n",
              "    background-color: var(--disabled-bg-color);\n",
              "    fill: var(--disabled-fill-color);\n",
              "    box-shadow: none;\n",
              "  }\n",
              "\n",
              "  .colab-df-spinner {\n",
              "    border: 2px solid var(--fill-color);\n",
              "    border-color: transparent;\n",
              "    border-bottom-color: var(--fill-color);\n",
              "    animation:\n",
              "      spin 1s steps(1) infinite;\n",
              "  }\n",
              "\n",
              "  @keyframes spin {\n",
              "    0% {\n",
              "      border-color: transparent;\n",
              "      border-bottom-color: var(--fill-color);\n",
              "      border-left-color: var(--fill-color);\n",
              "    }\n",
              "    20% {\n",
              "      border-color: transparent;\n",
              "      border-left-color: var(--fill-color);\n",
              "      border-top-color: var(--fill-color);\n",
              "    }\n",
              "    30% {\n",
              "      border-color: transparent;\n",
              "      border-left-color: var(--fill-color);\n",
              "      border-top-color: var(--fill-color);\n",
              "      border-right-color: var(--fill-color);\n",
              "    }\n",
              "    40% {\n",
              "      border-color: transparent;\n",
              "      border-right-color: var(--fill-color);\n",
              "      border-top-color: var(--fill-color);\n",
              "    }\n",
              "    60% {\n",
              "      border-color: transparent;\n",
              "      border-right-color: var(--fill-color);\n",
              "    }\n",
              "    80% {\n",
              "      border-color: transparent;\n",
              "      border-right-color: var(--fill-color);\n",
              "      border-bottom-color: var(--fill-color);\n",
              "    }\n",
              "    90% {\n",
              "      border-color: transparent;\n",
              "      border-bottom-color: var(--fill-color);\n",
              "    }\n",
              "  }\n",
              "</style>\n",
              "\n",
              "  <script>\n",
              "    async function quickchart(key) {\n",
              "      const quickchartButtonEl =\n",
              "        document.querySelector('#' + key + ' button');\n",
              "      quickchartButtonEl.disabled = true;  // To prevent multiple clicks.\n",
              "      quickchartButtonEl.classList.add('colab-df-spinner');\n",
              "      try {\n",
              "        const charts = await google.colab.kernel.invokeFunction(\n",
              "            'suggestCharts', [key], {});\n",
              "      } catch (error) {\n",
              "        console.error('Error during call to suggestCharts:', error);\n",
              "      }\n",
              "      quickchartButtonEl.classList.remove('colab-df-spinner');\n",
              "      quickchartButtonEl.classList.add('colab-df-quickchart-complete');\n",
              "    }\n",
              "    (() => {\n",
              "      let quickchartButtonEl =\n",
              "        document.querySelector('#df-a1737f72-307f-4b7e-a406-efe5def8bd90 button');\n",
              "      quickchartButtonEl.style.display =\n",
              "        google.colab.kernel.accessAllowed ? 'block' : 'none';\n",
              "    })();\n",
              "  </script>\n",
              "</div>\n",
              "\n",
              "    </div>\n",
              "  </div>\n"
            ],
            "application/vnd.google.colaboratory.intrinsic+json": {
              "type": "dataframe",
              "variable_name": "data",
              "summary": "{\n  \"name\": \"data\",\n  \"rows\": 502,\n  \"fields\": [\n    {\n      \"column\": \"Order ID\",\n      \"properties\": {\n        \"dtype\": \"string\",\n        \"num_unique_values\": 497,\n        \"samples\": [\n          \"ORD_484\",\n          \"ORD_74\",\n          \"ORD_232\"\n        ],\n        \"semantic_type\": \"\",\n        \"description\": \"\"\n      }\n    },\n    {\n      \"column\": \"Timestamp\",\n      \"properties\": {\n        \"dtype\": \"object\",\n        \"num_unique_values\": 497,\n        \"samples\": [\n          \"3/31/2024 8:50\",\n          \"3/6/2024 7:34\",\n          \"3/15/2024 17:01\"\n        ],\n        \"semantic_type\": \"\",\n        \"description\": \"\"\n      }\n    },\n    {\n      \"column\": \"Menu Items Ordered\",\n      \"properties\": {\n        \"dtype\": \"category\",\n        \"num_unique_values\": 9,\n        \"samples\": [\n          \"Pineapple Juice\",\n          \"Pasta\",\n          \"Cake\"\n        ],\n        \"semantic_type\": \"\",\n        \"description\": \"\"\n      }\n    },\n    {\n      \"column\": \"Quantity\",\n      \"properties\": {\n        \"dtype\": \"number\",\n        \"std\": 1,\n        \"min\": 1,\n        \"max\": 4,\n        \"num_unique_values\": 4,\n        \"samples\": [\n          2,\n          3,\n          1\n        ],\n        \"semantic_type\": \"\",\n        \"description\": \"\"\n      }\n    },\n    {\n      \"column\": \"Price\",\n      \"properties\": {\n        \"dtype\": \"number\",\n        \"std\": 2.49967931685324,\n        \"min\": 1.0,\n        \"max\": 10.0,\n        \"num_unique_values\": 385,\n        \"samples\": [\n          2.07,\n          8.8,\n          3.25\n        ],\n        \"semantic_type\": \"\",\n        \"description\": \"\"\n      }\n    },\n    {\n      \"column\": \"Total Amount\",\n      \"properties\": {\n        \"dtype\": \"number\",\n        \"std\": 9.45851716912287,\n        \"min\": 1.62,\n        \"max\": 40.0,\n        \"num_unique_values\": 436,\n        \"samples\": [\n          4.37,\n          21.66,\n          12.0\n        ],\n        \"semantic_type\": \"\",\n        \"description\": \"\"\n      }\n    }\n  ]\n}"
            }
          },
          "metadata": {},
          "execution_count": 24
        }
      ]
    },
    {
      "cell_type": "code",
      "source": [],
      "metadata": {
        "id": "_9Jel7gTZXpq"
      },
      "execution_count": null,
      "outputs": []
    },
    {
      "cell_type": "code",
      "source": [
        "# Aggregate quantity and calculate mean price for each food item\n",
        "data_agg = data.groupby('Menu Items Ordered').agg({'Quantity':'sum', 'Price':'mean'}).reset_index()\n"
      ],
      "metadata": {
        "id": "fMFXJrf7MNS_"
      },
      "execution_count": null,
      "outputs": []
    },
    {
      "cell_type": "code",
      "source": [
        "# Preprocessing\n",
        "# One-hot encode food items\n",
        "encoder = OneHotEncoder(sparse=False)\n",
        "food_items_encoded = encoder.fit_transform(data_agg['Menu Items Ordered'].values.reshape(-1, 1))\n"
      ],
      "metadata": {
        "colab": {
          "base_uri": "https://localhost:8080/"
        },
        "id": "K-lSvWLqMvsT",
        "outputId": "2c1e1791-83f3-4c06-9958-ba53883fb608"
      },
      "execution_count": null,
      "outputs": [
        {
          "output_type": "stream",
          "name": "stderr",
          "text": [
            "/usr/local/lib/python3.10/dist-packages/sklearn/preprocessing/_encoders.py:868: FutureWarning: `sparse` was renamed to `sparse_output` in version 1.2 and will be removed in 1.4. `sparse_output` is ignored unless you leave `sparse` to its default value.\n",
            "  warnings.warn(\n"
          ]
        }
      ]
    },
    {
      "cell_type": "code",
      "source": [
        "food_items_encoded"
      ],
      "metadata": {
        "colab": {
          "base_uri": "https://localhost:8080/"
        },
        "id": "7290GsZmNakg",
        "outputId": "eaac1dbc-ef61-4963-ae1f-296205d0d07a"
      },
      "execution_count": null,
      "outputs": [
        {
          "output_type": "execute_result",
          "data": {
            "text/plain": [
              "array([[1., 0., 0., 0., 0., 0., 0., 0., 0.],\n",
              "       [0., 1., 0., 0., 0., 0., 0., 0., 0.],\n",
              "       [0., 0., 1., 0., 0., 0., 0., 0., 0.],\n",
              "       [0., 0., 0., 1., 0., 0., 0., 0., 0.],\n",
              "       [0., 0., 0., 0., 1., 0., 0., 0., 0.],\n",
              "       [0., 0., 0., 0., 0., 1., 0., 0., 0.],\n",
              "       [0., 0., 0., 0., 0., 0., 1., 0., 0.],\n",
              "       [0., 0., 0., 0., 0., 0., 0., 1., 0.],\n",
              "       [0., 0., 0., 0., 0., 0., 0., 0., 1.]])"
            ]
          },
          "metadata": {},
          "execution_count": 22
        }
      ]
    },
    {
      "cell_type": "code",
      "source": [
        "# Standardize numerical features (quantity and price)\n",
        "scaler = StandardScaler()\n",
        "numerical_features = scaler.fit_transform(data_agg[['Quantity', 'Price']])"
      ],
      "metadata": {
        "id": "8oeVMYE9NEV2"
      },
      "execution_count": null,
      "outputs": []
    },
    {
      "cell_type": "code",
      "source": [
        "numerical_features"
      ],
      "metadata": {
        "colab": {
          "base_uri": "https://localhost:8080/"
        },
        "id": "ukRQfxCRNYD-",
        "outputId": "9f8fd2c7-a382-49e5-cea2-f81d63bf1e81"
      },
      "execution_count": null,
      "outputs": [
        {
          "output_type": "execute_result",
          "data": {
            "text/plain": [
              "array([[ 0.95253926,  0.08876191],\n",
              "       [ 0.73580982,  0.13547882],\n",
              "       [ 0.93648523,  0.39852116],\n",
              "       [-1.11040391, -0.69108546],\n",
              "       [-1.15053899, -2.27742094],\n",
              "       [ 0.80805297,  0.40169708],\n",
              "       [-1.07026883, -0.11891483],\n",
              "       [-1.12645795,  1.68236305],\n",
              "       [ 1.02478241,  0.3805992 ]])"
            ]
          },
          "metadata": {},
          "execution_count": 21
        }
      ]
    },
    {
      "cell_type": "code",
      "source": [
        "\n",
        "# Concatenate one-hot encoded food items and numerical features\n",
        "X = np.concatenate((food_items_encoded, numerical_features), axis=1)"
      ],
      "metadata": {
        "id": "hbO86mexNP09"
      },
      "execution_count": null,
      "outputs": []
    },
    {
      "cell_type": "code",
      "source": [
        "X"
      ],
      "metadata": {
        "colab": {
          "base_uri": "https://localhost:8080/"
        },
        "id": "pEzjysgkNShv",
        "outputId": "e0a33dee-0759-48c8-e409-d20bf7aff5ae"
      },
      "execution_count": null,
      "outputs": [
        {
          "output_type": "execute_result",
          "data": {
            "text/plain": [
              "array([[ 1.        ,  0.        ,  0.        ,  0.        ,  0.        ,\n",
              "         0.        ,  0.        ,  0.        ,  0.        ,  0.95253926,\n",
              "         0.08876191],\n",
              "       [ 0.        ,  1.        ,  0.        ,  0.        ,  0.        ,\n",
              "         0.        ,  0.        ,  0.        ,  0.        ,  0.73580982,\n",
              "         0.13547882],\n",
              "       [ 0.        ,  0.        ,  1.        ,  0.        ,  0.        ,\n",
              "         0.        ,  0.        ,  0.        ,  0.        ,  0.93648523,\n",
              "         0.39852116],\n",
              "       [ 0.        ,  0.        ,  0.        ,  1.        ,  0.        ,\n",
              "         0.        ,  0.        ,  0.        ,  0.        , -1.11040391,\n",
              "        -0.69108546],\n",
              "       [ 0.        ,  0.        ,  0.        ,  0.        ,  1.        ,\n",
              "         0.        ,  0.        ,  0.        ,  0.        , -1.15053899,\n",
              "        -2.27742094],\n",
              "       [ 0.        ,  0.        ,  0.        ,  0.        ,  0.        ,\n",
              "         1.        ,  0.        ,  0.        ,  0.        ,  0.80805297,\n",
              "         0.40169708],\n",
              "       [ 0.        ,  0.        ,  0.        ,  0.        ,  0.        ,\n",
              "         0.        ,  1.        ,  0.        ,  0.        , -1.07026883,\n",
              "        -0.11891483],\n",
              "       [ 0.        ,  0.        ,  0.        ,  0.        ,  0.        ,\n",
              "         0.        ,  0.        ,  1.        ,  0.        , -1.12645795,\n",
              "         1.68236305],\n",
              "       [ 0.        ,  0.        ,  0.        ,  0.        ,  0.        ,\n",
              "         0.        ,  0.        ,  0.        ,  1.        ,  1.02478241,\n",
              "         0.3805992 ]])"
            ]
          },
          "metadata": {},
          "execution_count": 20
        }
      ]
    },
    {
      "cell_type": "code",
      "source": [
        "\n",
        "# Split data into train and test sets\n",
        "X_train, X_test = train_test_split(X, test_size=0.2, random_state=42)"
      ],
      "metadata": {
        "id": "vmdLlkmXNTKO"
      },
      "execution_count": null,
      "outputs": []
    },
    {
      "cell_type": "code",
      "source": [
        "X_test"
      ],
      "metadata": {
        "colab": {
          "base_uri": "https://localhost:8080/"
        },
        "id": "lxE_kO_INoM_",
        "outputId": "4f6391cb-6b27-4de9-e6a1-0905cf7ddba6"
      },
      "execution_count": null,
      "outputs": [
        {
          "output_type": "execute_result",
          "data": {
            "text/plain": [
              "array([[ 0.        ,  0.        ,  0.        ,  0.        ,  0.        ,\n",
              "         0.        ,  0.        ,  1.        ,  0.        , -1.12645795,\n",
              "         1.68236305],\n",
              "       [ 0.        ,  1.        ,  0.        ,  0.        ,  0.        ,\n",
              "         0.        ,  0.        ,  0.        ,  0.        ,  0.73580982,\n",
              "         0.13547882]])"
            ]
          },
          "metadata": {},
          "execution_count": 27
        }
      ]
    },
    {
      "cell_type": "code",
      "source": [
        "# Autoencoder architecture\n",
        "input_dim = X_train.shape[1]\n",
        "encoding_dim = 32  # adjust the size of the encoding layer\n"
      ],
      "metadata": {
        "id": "bvL1VrLqNrSl"
      },
      "execution_count": null,
      "outputs": []
    },
    {
      "cell_type": "code",
      "source": [
        "input_layer = Input(shape=(input_dim,))\n",
        "encoder_layer = Dense(encoding_dim, activation='relu')(input_layer)\n",
        "decoder_layer = Dense(input_dim, activation='sigmoid')(encoder_layer)\n",
        "\n",
        "autoencoder = Model(input_layer, decoder_layer)"
      ],
      "metadata": {
        "id": "IjvSAQ8eNzVk"
      },
      "execution_count": null,
      "outputs": []
    },
    {
      "cell_type": "code",
      "source": [
        "# Compile the model\n",
        "autoencoder.compile(optimizer='adam', loss='mean_squared_error')\n"
      ],
      "metadata": {
        "id": "YpNel_cwN3Op"
      },
      "execution_count": null,
      "outputs": []
    },
    {
      "cell_type": "code",
      "source": [
        "# Train the autoencoder\n",
        "autoencoder.fit(X_train, X_train, epochs=50, batch_size=64, shuffle=True, validation_data=(X_test, X_test))\n"
      ],
      "metadata": {
        "colab": {
          "base_uri": "https://localhost:8080/"
        },
        "id": "5AKTt8S9N6cH",
        "outputId": "7d4d38c0-eabe-4cac-bc93-030815d095fe"
      },
      "execution_count": null,
      "outputs": [
        {
          "output_type": "stream",
          "name": "stdout",
          "text": [
            "Epoch 1/50\n",
            "1/1 [==============================] - 1s 648ms/step - loss: 0.4496 - val_loss: 0.4701\n",
            "Epoch 2/50\n",
            "1/1 [==============================] - 0s 38ms/step - loss: 0.4474 - val_loss: 0.4691\n",
            "Epoch 3/50\n",
            "1/1 [==============================] - 0s 38ms/step - loss: 0.4452 - val_loss: 0.4681\n",
            "Epoch 4/50\n",
            "1/1 [==============================] - 0s 34ms/step - loss: 0.4430 - val_loss: 0.4672\n",
            "Epoch 5/50\n",
            "1/1 [==============================] - 0s 34ms/step - loss: 0.4408 - val_loss: 0.4663\n",
            "Epoch 6/50\n",
            "1/1 [==============================] - 0s 35ms/step - loss: 0.4387 - val_loss: 0.4653\n",
            "Epoch 7/50\n",
            "1/1 [==============================] - 0s 36ms/step - loss: 0.4366 - val_loss: 0.4644\n",
            "Epoch 8/50\n",
            "1/1 [==============================] - 0s 35ms/step - loss: 0.4345 - val_loss: 0.4635\n",
            "Epoch 9/50\n",
            "1/1 [==============================] - 0s 35ms/step - loss: 0.4324 - val_loss: 0.4625\n",
            "Epoch 10/50\n",
            "1/1 [==============================] - 0s 37ms/step - loss: 0.4303 - val_loss: 0.4616\n",
            "Epoch 11/50\n",
            "1/1 [==============================] - 0s 41ms/step - loss: 0.4282 - val_loss: 0.4606\n",
            "Epoch 12/50\n",
            "1/1 [==============================] - 0s 37ms/step - loss: 0.4261 - val_loss: 0.4597\n",
            "Epoch 13/50\n",
            "1/1 [==============================] - 0s 35ms/step - loss: 0.4241 - val_loss: 0.4588\n",
            "Epoch 14/50\n",
            "1/1 [==============================] - 0s 39ms/step - loss: 0.4221 - val_loss: 0.4578\n",
            "Epoch 15/50\n",
            "1/1 [==============================] - 0s 35ms/step - loss: 0.4200 - val_loss: 0.4569\n",
            "Epoch 16/50\n",
            "1/1 [==============================] - 0s 37ms/step - loss: 0.4180 - val_loss: 0.4560\n",
            "Epoch 17/50\n",
            "1/1 [==============================] - 0s 35ms/step - loss: 0.4160 - val_loss: 0.4551\n",
            "Epoch 18/50\n",
            "1/1 [==============================] - 0s 35ms/step - loss: 0.4140 - val_loss: 0.4542\n",
            "Epoch 19/50\n",
            "1/1 [==============================] - 0s 36ms/step - loss: 0.4121 - val_loss: 0.4533\n",
            "Epoch 20/50\n",
            "1/1 [==============================] - 0s 36ms/step - loss: 0.4101 - val_loss: 0.4524\n",
            "Epoch 21/50\n",
            "1/1 [==============================] - 0s 35ms/step - loss: 0.4081 - val_loss: 0.4515\n",
            "Epoch 22/50\n",
            "1/1 [==============================] - 0s 33ms/step - loss: 0.4062 - val_loss: 0.4507\n",
            "Epoch 23/50\n",
            "1/1 [==============================] - 0s 35ms/step - loss: 0.4042 - val_loss: 0.4498\n",
            "Epoch 24/50\n",
            "1/1 [==============================] - 0s 34ms/step - loss: 0.4023 - val_loss: 0.4490\n",
            "Epoch 25/50\n",
            "1/1 [==============================] - 0s 42ms/step - loss: 0.4003 - val_loss: 0.4481\n",
            "Epoch 26/50\n",
            "1/1 [==============================] - 0s 42ms/step - loss: 0.3984 - val_loss: 0.4473\n",
            "Epoch 27/50\n",
            "1/1 [==============================] - 0s 34ms/step - loss: 0.3965 - val_loss: 0.4465\n",
            "Epoch 28/50\n",
            "1/1 [==============================] - 0s 34ms/step - loss: 0.3946 - val_loss: 0.4456\n",
            "Epoch 29/50\n",
            "1/1 [==============================] - 0s 37ms/step - loss: 0.3927 - val_loss: 0.4448\n",
            "Epoch 30/50\n",
            "1/1 [==============================] - 0s 35ms/step - loss: 0.3908 - val_loss: 0.4440\n",
            "Epoch 31/50\n",
            "1/1 [==============================] - 0s 38ms/step - loss: 0.3889 - val_loss: 0.4432\n",
            "Epoch 32/50\n",
            "1/1 [==============================] - 0s 36ms/step - loss: 0.3870 - val_loss: 0.4424\n",
            "Epoch 33/50\n",
            "1/1 [==============================] - 0s 37ms/step - loss: 0.3851 - val_loss: 0.4416\n",
            "Epoch 34/50\n",
            "1/1 [==============================] - 0s 36ms/step - loss: 0.3833 - val_loss: 0.4408\n",
            "Epoch 35/50\n",
            "1/1 [==============================] - 0s 36ms/step - loss: 0.3814 - val_loss: 0.4401\n",
            "Epoch 36/50\n",
            "1/1 [==============================] - 0s 34ms/step - loss: 0.3796 - val_loss: 0.4393\n",
            "Epoch 37/50\n",
            "1/1 [==============================] - 0s 36ms/step - loss: 0.3777 - val_loss: 0.4385\n",
            "Epoch 38/50\n",
            "1/1 [==============================] - 0s 37ms/step - loss: 0.3759 - val_loss: 0.4377\n",
            "Epoch 39/50\n",
            "1/1 [==============================] - 0s 34ms/step - loss: 0.3740 - val_loss: 0.4370\n",
            "Epoch 40/50\n",
            "1/1 [==============================] - 0s 38ms/step - loss: 0.3722 - val_loss: 0.4362\n",
            "Epoch 41/50\n",
            "1/1 [==============================] - 0s 38ms/step - loss: 0.3704 - val_loss: 0.4355\n",
            "Epoch 42/50\n",
            "1/1 [==============================] - 0s 39ms/step - loss: 0.3685 - val_loss: 0.4347\n",
            "Epoch 43/50\n",
            "1/1 [==============================] - 0s 34ms/step - loss: 0.3667 - val_loss: 0.4340\n",
            "Epoch 44/50\n",
            "1/1 [==============================] - 0s 39ms/step - loss: 0.3649 - val_loss: 0.4332\n",
            "Epoch 45/50\n",
            "1/1 [==============================] - 0s 34ms/step - loss: 0.3631 - val_loss: 0.4324\n",
            "Epoch 46/50\n",
            "1/1 [==============================] - 0s 34ms/step - loss: 0.3613 - val_loss: 0.4317\n",
            "Epoch 47/50\n",
            "1/1 [==============================] - 0s 37ms/step - loss: 0.3594 - val_loss: 0.4309\n",
            "Epoch 48/50\n",
            "1/1 [==============================] - 0s 34ms/step - loss: 0.3576 - val_loss: 0.4302\n",
            "Epoch 49/50\n",
            "1/1 [==============================] - 0s 34ms/step - loss: 0.3558 - val_loss: 0.4294\n",
            "Epoch 50/50\n",
            "1/1 [==============================] - 0s 34ms/step - loss: 0.3540 - val_loss: 0.4287\n"
          ]
        },
        {
          "output_type": "execute_result",
          "data": {
            "text/plain": [
              "<keras.src.callbacks.History at 0x7aece8140730>"
            ]
          },
          "metadata": {},
          "execution_count": 36
        }
      ]
    },
    {
      "cell_type": "code",
      "source": [
        "\n",
        "# Reconstruction errors\n",
        "train_reconstructions = autoencoder.predict(X_train)\n",
        "train_errors = np.mean(np.square(X_train - train_reconstructions), axis=1)\n",
        "test_reconstructions = autoencoder.predict(X_test)\n",
        "test_errors = np.mean(np.square(X_test - test_reconstructions), axis=1)"
      ],
      "metadata": {
        "colab": {
          "base_uri": "https://localhost:8080/"
        },
        "id": "a3QGyGVyN_QQ",
        "outputId": "3c9b4a88-ceee-4940-a70b-74ab468e6b64"
      },
      "execution_count": null,
      "outputs": [
        {
          "output_type": "stream",
          "name": "stdout",
          "text": [
            "1/1 [==============================] - 0s 146ms/step\n",
            "1/1 [==============================] - 0s 39ms/step\n"
          ]
        }
      ]
    },
    {
      "cell_type": "code",
      "source": [
        "\n",
        "# Define threshold for anomaly detection\n",
        "threshold = np.mean(train_errors) + 3 * np.std(train_errors)\n"
      ],
      "metadata": {
        "id": "r5IeaLW9OGhK"
      },
      "execution_count": null,
      "outputs": []
    },
    {
      "cell_type": "code",
      "source": [
        "# Calculate the 95th percentile of the reconstruction errors\n",
        "threshold_train = np.percentile(train_errors, 95)\n",
        "\n",
        "# Alternatively, you can calculate it using the test errors if you prefer:\n",
        "threshold_test = np.percentile(test_errors, 95)"
      ],
      "metadata": {
        "id": "r54gnedpR7wO"
      },
      "execution_count": null,
      "outputs": []
    },
    {
      "cell_type": "code",
      "source": [
        "threshold"
      ],
      "metadata": {
        "colab": {
          "base_uri": "https://localhost:8080/"
        },
        "id": "jgui01SAOKVK",
        "outputId": "b3385288-2257-44d9-f74c-4feac64bf767"
      },
      "execution_count": null,
      "outputs": [
        {
          "output_type": "execute_result",
          "data": {
            "text/plain": [
              "0.7482149054646285"
            ]
          },
          "metadata": {},
          "execution_count": 75
        }
      ]
    },
    {
      "cell_type": "code",
      "source": [
        "\n",
        "# Detect anomalies\n",
        "anomalies_train = X_train[train_errors > threshold_train]\n",
        "anomalies_test = X_test[test_errors > threshold_test]"
      ],
      "metadata": {
        "id": "GEiSwOpbOLic"
      },
      "execution_count": null,
      "outputs": []
    },
    {
      "cell_type": "code",
      "source": [
        "anomalies_train"
      ],
      "metadata": {
        "colab": {
          "base_uri": "https://localhost:8080/"
        },
        "id": "pxHaAVZeOZY7",
        "outputId": "e3244ae4-be5b-4b51-c439-f1eda7bfb766"
      },
      "execution_count": null,
      "outputs": [
        {
          "output_type": "execute_result",
          "data": {
            "text/plain": [
              "array([[ 0.        ,  0.        ,  0.        ,  0.        ,  1.        ,\n",
              "         0.        ,  0.        ,  0.        ,  0.        , -1.15053899,\n",
              "        -2.27742094]])"
            ]
          },
          "metadata": {},
          "execution_count": 77
        }
      ]
    },
    {
      "cell_type": "code",
      "source": [
        "anomalies_test"
      ],
      "metadata": {
        "colab": {
          "base_uri": "https://localhost:8080/"
        },
        "id": "qndGZPh0Oavu",
        "outputId": "be5b8d57-e107-4783-e5f2-187cd7385f38"
      },
      "execution_count": null,
      "outputs": [
        {
          "output_type": "execute_result",
          "data": {
            "text/plain": [
              "array([[ 0.        ,  0.        ,  0.        ,  0.        ,  0.        ,\n",
              "         0.        ,  0.        ,  1.        ,  0.        , -1.12645795,\n",
              "         1.68236305]])"
            ]
          },
          "metadata": {},
          "execution_count": 78
        }
      ]
    },
    {
      "cell_type": "code",
      "source": [
        "\n",
        "print(\"Anomalies detected in training set:\", anomalies_train.shape[0])\n",
        "print(\"Anomalies detected in test set:\", anomalies_test.shape[0])"
      ],
      "metadata": {
        "colab": {
          "base_uri": "https://localhost:8080/"
        },
        "id": "d52bwG_SOcGw",
        "outputId": "4d288c92-d86d-4112-d42f-b265811c2f1c"
      },
      "execution_count": null,
      "outputs": [
        {
          "output_type": "stream",
          "name": "stdout",
          "text": [
            "Anomalies detected in training set: 1\n",
            "Anomalies detected in test set: 1\n"
          ]
        }
      ]
    },
    {
      "cell_type": "code",
      "source": [
        "# Get indices of anomalies in the aggregated dataset\n",
        "anomaly_indices_train = np.where(train_errors < threshold_train)[0]\n",
        "anomaly_indices_test = np.where(test_errors > threshold_test)[0]\n",
        "\n",
        "# Get corresponding anomalies from the aggregated dataset\n",
        "anomalies_aggregated_train = data_agg.iloc[anomaly_indices_train]\n",
        "anomalies_aggregated_test = data_agg.iloc[anomaly_indices_test]\n",
        "\n",
        "# Display anomaly data from the aggregated dataset for the training set\n",
        "print(\"Anomalies detected in training set (aggregated dataset):\\n\", anomalies_aggregated_train)\n",
        "\n",
        "# Display anomaly data from the aggregated dataset for the test set\n",
        "print(\"Anomalies detected in test set (aggregated dataset):\\n\", anomalies_aggregated_test)"
      ],
      "metadata": {
        "colab": {
          "base_uri": "https://localhost:8080/"
        },
        "id": "KeZhNoN6Q4cX",
        "outputId": "4e700aa7-bfff-43a9-c822-9844fc5b2c6d"
      },
      "execution_count": null,
      "outputs": [
        {
          "output_type": "stream",
          "name": "stdout",
          "text": [
            "Anomalies detected in training set (aggregated dataset):\n",
            "   Menu Items Ordered  Quantity     Price\n",
            "0               Cake       263  5.408000\n",
            "1       Chinese Food       236  5.485158\n",
            "2             Coffee       261  5.919600\n",
            "3         Lemon Rice         6  4.120000\n",
            "5       Orange Juice       245  5.924845\n",
            "6              Pasta        11  5.065000\n",
            "Anomalies detected in test set (aggregated dataset):\n",
            "   Menu Items Ordered  Quantity  Price\n",
            "0               Cake       263  5.408\n"
          ]
        }
      ]
    },
    {
      "cell_type": "code",
      "source": [],
      "metadata": {
        "id": "X0PwCTe6emnD"
      },
      "execution_count": null,
      "outputs": []
    },
    {
      "cell_type": "code",
      "source": [
        "anomalies_all"
      ],
      "metadata": {
        "colab": {
          "base_uri": "https://localhost:8080/"
        },
        "id": "A0VhnPhLZij8",
        "outputId": "fb87de82-c171-4104-9a0e-4eb2d5d4372e"
      },
      "execution_count": null,
      "outputs": [
        {
          "output_type": "execute_result",
          "data": {
            "text/plain": [
              "array([[ 0.        ,  0.        ,  0.        ,  0.        ,  1.        ,\n",
              "         0.        ,  0.        ,  0.        ,  0.        , -1.15053899,\n",
              "        -2.27742094],\n",
              "       [ 0.        ,  0.        ,  0.        ,  0.        ,  0.        ,\n",
              "         0.        ,  0.        ,  1.        ,  0.        , -1.12645795,\n",
              "         1.68236305]])"
            ]
          },
          "metadata": {},
          "execution_count": 158
        }
      ]
    },
    {
      "cell_type": "code",
      "source": [
        "menu_items = anomalies_aggregated_train['Menu Items Ordered']\n",
        "menu_items"
      ],
      "metadata": {
        "colab": {
          "base_uri": "https://localhost:8080/"
        },
        "id": "8QxEBabBZHQN",
        "outputId": "bcfe4db3-6e7c-4f5b-ef47-0042328f66bb"
      },
      "execution_count": null,
      "outputs": [
        {
          "output_type": "execute_result",
          "data": {
            "text/plain": [
              "0            Cake\n",
              "1    Chinese Food\n",
              "2          Coffee\n",
              "3      Lemon Rice\n",
              "5    Orange Juice\n",
              "6           Pasta\n",
              "Name: Menu Items Ordered, dtype: object"
            ]
          },
          "metadata": {},
          "execution_count": 159
        }
      ]
    },
    {
      "cell_type": "code",
      "source": [
        "import matplotlib.pyplot as plt\n",
        "from collections import Counter\n",
        "\n",
        "\n",
        "\n",
        "# Assuming anomalies_all contains menu items, quantity, and price\n",
        "food_items = anomalies_aggregated_train['Menu Items Ordered']  # Extract menu items (assuming it's in the first column)\n",
        "quantity = anomalies_aggregated_train['Quantity']   # Extract quantity (assuming it's in the second column)\n",
        "price = quantity = anomalies_aggregated_train['Price']   # Extract quantity (assuming it's in the second column)\n",
        "            # Assuming price is the feature after quantity\n",
        "\n",
        "\n",
        "\n",
        "# Calculate the frequency of each food item\n",
        "food_item_counts = Counter(food_items)\n",
        "\n",
        "# Plotting all three graphs horizontally without overlap using subplots\n",
        "fig, axs = plt.subplots(1, 3, figsize=(18, 6))\n",
        "\n",
        "# Plot a bar graph for food items\n",
        "axs[0].bar(food_item_counts.keys(), food_item_counts.values(), color='orange')\n",
        "axs[0].set_xlabel('Food Item')\n",
        "axs[0].set_ylabel('Frequency')\n",
        "axs[0].set_title('Frequency of Food Items')\n",
        "axs[0].tick_params(axis='x', rotation=90)\n",
        "\n",
        "# Plot a bar graph for quantity\n",
        "axs[1].bar(range(len(quantity)), quantity, color='skyblue')\n",
        "axs[1].set_xlabel('Data Point')\n",
        "axs[1].set_ylabel('Quantity')\n",
        "axs[1].set_title('Quantity Distribution')\n",
        "\n",
        "# Plot a histogram for price\n",
        "axs[2].hist(price, bins=20, color='lightgreen', edgecolor='black')\n",
        "axs[2].set_xlabel('Price')\n",
        "axs[2].set_ylabel('Frequency')\n",
        "axs[2].set_title('Price Distribution')\n",
        "\n",
        "plt.tight_layout()\n",
        "plt.show()"
      ],
      "metadata": {
        "colab": {
          "base_uri": "https://localhost:8080/",
          "height": 607
        },
        "id": "a-rFTpDqT6iH",
        "outputId": "3da13b4c-0100-4a2a-b3b2-2efa1d99de20"
      },
      "execution_count": null,
      "outputs": [
        {
          "output_type": "display_data",
          "data": {
            "text/plain": [
              "<Figure size 1800x600 with 3 Axes>"
            ],
            "image/png": "[encoded data removed]"
          },
          "metadata": {}
        }
      ]
    },
    {
      "cell_type": "code",
      "source": [
        "import matplotlib.pyplot as plt\n",
        "\n",
        "# Assuming 'anomalies_aggregated_train' is your DataFrame containing aggregated anomalies\n",
        "# Assuming 'menu_items', 'quantity', and 'price' are columns in 'anomalies_aggregated_train'\n",
        "\n",
        "\n",
        "from collections import Counter\n",
        "\n",
        "\n",
        "\n",
        "# Assuming anomalies_all contains menu items, quantity, and price\n",
        "food_items = anomalies_aggregated_train['Menu Items Ordered']  # Extract menu items (assuming it's in the first column)\n",
        "quantity = anomalies_aggregated_train['Quantity']   # Extract quantity (assuming it's in the second column)\n",
        "price = quantity = anomalies_aggregated_train['Price']   # Extract quantity (assuming it's in the second column)\n",
        "            # Assuming price is the feature after quantity\n",
        "\n",
        "\n",
        "\n",
        "# Calculate the frequency of each food item\n",
        "food_item_counts = Counter(food_items)\n",
        "\n",
        "# Plot anomalies with menu item, quantity, and price\n",
        "plt.figure(figsize=(10, 6))\n",
        "\n",
        "# Scatter plot for menu item vs. quantity with price anomaly indicated by color\n",
        "plt.scatter(anomalies_aggregated_train['Menu Items Ordered'], anomalies_aggregated_train['Quantity'],\n",
        "            c=anomalies_aggregated_train['Price'], cmap='coolwarm', s=100)\n",
        "plt.xlabel('Menu Item')\n",
        "plt.ylabel('Quantity')\n",
        "plt.title('Anomalies: Menu Item vs. Quantity')\n",
        "plt.colorbar(label='Price Anomaly')\n",
        "plt.xticks(rotation=90)  # Rotate x-axis labels for better readability\n",
        "plt.tight_layout()\n",
        "plt.show()\n"
      ],
      "metadata": {
        "colab": {
          "base_uri": "https://localhost:8080/",
          "height": 607
        },
        "id": "8E5Nsvvic36_",
        "outputId": "2aef755c-66ef-45ee-e8ff-c31a2dfad413"
      },
      "execution_count": null,
      "outputs": [
        {
          "output_type": "display_data",
          "data": {
            "text/plain": [
              "<Figure size 1000x600 with 2 Axes>"
            ],
            "image/png": "[encoded data removed]"
          },
          "metadata": {}
        }
      ]
    },
    {
      "cell_type": "code",
      "source": [],
      "metadata": {
        "id": "m_LryO_Siedr"
      },
      "execution_count": null,
      "outputs": []
    }
  ]
}